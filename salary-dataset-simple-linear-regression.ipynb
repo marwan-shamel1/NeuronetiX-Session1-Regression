{
 "cells": [
  {
   "cell_type": "code",
   "execution_count": 1,
   "id": "9dbe4f56",
   "metadata": {
    "_cell_guid": "b1076dfc-b9ad-4769-8c92-a6c4dae69d19",
    "_uuid": "8f2839f25d086af736a60e9eeb907d3b93b6e0e5",
    "execution": {
     "iopub.execute_input": "2024-09-01T09:35:00.553521Z",
     "iopub.status.busy": "2024-09-01T09:35:00.553030Z",
     "iopub.status.idle": "2024-09-01T09:35:01.059066Z",
     "shell.execute_reply": "2024-09-01T09:35:01.057741Z"
    },
    "papermill": {
     "duration": 0.515935,
     "end_time": "2024-09-01T09:35:01.062487",
     "exception": false,
     "start_time": "2024-09-01T09:35:00.546552",
     "status": "completed"
    },
    "tags": []
   },
   "outputs": [
    {
     "data": {
      "text/html": [
       "<div>\n",
       "<style scoped>\n",
       "    .dataframe tbody tr th:only-of-type {\n",
       "        vertical-align: middle;\n",
       "    }\n",
       "\n",
       "    .dataframe tbody tr th {\n",
       "        vertical-align: top;\n",
       "    }\n",
       "\n",
       "    .dataframe thead th {\n",
       "        text-align: right;\n",
       "    }\n",
       "</style>\n",
       "<table border=\"1\" class=\"dataframe\">\n",
       "  <thead>\n",
       "    <tr style=\"text-align: right;\">\n",
       "      <th></th>\n",
       "      <th>Unnamed: 0</th>\n",
       "      <th>YearsExperience</th>\n",
       "      <th>Salary</th>\n",
       "    </tr>\n",
       "  </thead>\n",
       "  <tbody>\n",
       "    <tr>\n",
       "      <th>0</th>\n",
       "      <td>0</td>\n",
       "      <td>1.2</td>\n",
       "      <td>39344.0</td>\n",
       "    </tr>\n",
       "    <tr>\n",
       "      <th>1</th>\n",
       "      <td>1</td>\n",
       "      <td>1.4</td>\n",
       "      <td>46206.0</td>\n",
       "    </tr>\n",
       "    <tr>\n",
       "      <th>2</th>\n",
       "      <td>2</td>\n",
       "      <td>1.6</td>\n",
       "      <td>37732.0</td>\n",
       "    </tr>\n",
       "    <tr>\n",
       "      <th>3</th>\n",
       "      <td>3</td>\n",
       "      <td>2.1</td>\n",
       "      <td>43526.0</td>\n",
       "    </tr>\n",
       "    <tr>\n",
       "      <th>4</th>\n",
       "      <td>4</td>\n",
       "      <td>2.3</td>\n",
       "      <td>39892.0</td>\n",
       "    </tr>\n",
       "    <tr>\n",
       "      <th>5</th>\n",
       "      <td>5</td>\n",
       "      <td>3.0</td>\n",
       "      <td>56643.0</td>\n",
       "    </tr>\n",
       "    <tr>\n",
       "      <th>6</th>\n",
       "      <td>6</td>\n",
       "      <td>3.1</td>\n",
       "      <td>60151.0</td>\n",
       "    </tr>\n",
       "    <tr>\n",
       "      <th>7</th>\n",
       "      <td>7</td>\n",
       "      <td>3.3</td>\n",
       "      <td>54446.0</td>\n",
       "    </tr>\n",
       "    <tr>\n",
       "      <th>8</th>\n",
       "      <td>8</td>\n",
       "      <td>3.3</td>\n",
       "      <td>64446.0</td>\n",
       "    </tr>\n",
       "    <tr>\n",
       "      <th>9</th>\n",
       "      <td>9</td>\n",
       "      <td>3.8</td>\n",
       "      <td>57190.0</td>\n",
       "    </tr>\n",
       "  </tbody>\n",
       "</table>\n",
       "</div>"
      ],
      "text/plain": [
       "   Unnamed: 0  YearsExperience   Salary\n",
       "0           0              1.2  39344.0\n",
       "1           1              1.4  46206.0\n",
       "2           2              1.6  37732.0\n",
       "3           3              2.1  43526.0\n",
       "4           4              2.3  39892.0\n",
       "5           5              3.0  56643.0\n",
       "6           6              3.1  60151.0\n",
       "7           7              3.3  54446.0\n",
       "8           8              3.3  64446.0\n",
       "9           9              3.8  57190.0"
      ]
     },
     "execution_count": 1,
     "metadata": {},
     "output_type": "execute_result"
    }
   ],
   "source": [
    "import numpy as np \n",
    "import pandas as pd \n",
    "\n",
    "df=pd.read_csv('/kaggle/input/salary-dataset-simple-linear-regression/Salary_dataset.csv')\n",
    "df.head(10)"
   ]
  },
  {
   "cell_type": "code",
   "execution_count": 2,
   "id": "75c1aaac",
   "metadata": {
    "execution": {
     "iopub.execute_input": "2024-09-01T09:35:01.072380Z",
     "iopub.status.busy": "2024-09-01T09:35:01.071911Z",
     "iopub.status.idle": "2024-09-01T09:35:01.091072Z",
     "shell.execute_reply": "2024-09-01T09:35:01.089883Z"
    },
    "papermill": {
     "duration": 0.026831,
     "end_time": "2024-09-01T09:35:01.093483",
     "exception": false,
     "start_time": "2024-09-01T09:35:01.066652",
     "status": "completed"
    },
    "tags": []
   },
   "outputs": [
    {
     "data": {
      "text/html": [
       "<div>\n",
       "<style scoped>\n",
       "    .dataframe tbody tr th:only-of-type {\n",
       "        vertical-align: middle;\n",
       "    }\n",
       "\n",
       "    .dataframe tbody tr th {\n",
       "        vertical-align: top;\n",
       "    }\n",
       "\n",
       "    .dataframe thead th {\n",
       "        text-align: right;\n",
       "    }\n",
       "</style>\n",
       "<table border=\"1\" class=\"dataframe\">\n",
       "  <thead>\n",
       "    <tr style=\"text-align: right;\">\n",
       "      <th></th>\n",
       "      <th>YearsExperience</th>\n",
       "      <th>Salary</th>\n",
       "    </tr>\n",
       "  </thead>\n",
       "  <tbody>\n",
       "    <tr>\n",
       "      <th>0</th>\n",
       "      <td>1.2</td>\n",
       "      <td>39344.0</td>\n",
       "    </tr>\n",
       "    <tr>\n",
       "      <th>1</th>\n",
       "      <td>1.4</td>\n",
       "      <td>46206.0</td>\n",
       "    </tr>\n",
       "    <tr>\n",
       "      <th>2</th>\n",
       "      <td>1.6</td>\n",
       "      <td>37732.0</td>\n",
       "    </tr>\n",
       "    <tr>\n",
       "      <th>3</th>\n",
       "      <td>2.1</td>\n",
       "      <td>43526.0</td>\n",
       "    </tr>\n",
       "    <tr>\n",
       "      <th>4</th>\n",
       "      <td>2.3</td>\n",
       "      <td>39892.0</td>\n",
       "    </tr>\n",
       "    <tr>\n",
       "      <th>5</th>\n",
       "      <td>3.0</td>\n",
       "      <td>56643.0</td>\n",
       "    </tr>\n",
       "    <tr>\n",
       "      <th>6</th>\n",
       "      <td>3.1</td>\n",
       "      <td>60151.0</td>\n",
       "    </tr>\n",
       "    <tr>\n",
       "      <th>7</th>\n",
       "      <td>3.3</td>\n",
       "      <td>54446.0</td>\n",
       "    </tr>\n",
       "    <tr>\n",
       "      <th>8</th>\n",
       "      <td>3.3</td>\n",
       "      <td>64446.0</td>\n",
       "    </tr>\n",
       "    <tr>\n",
       "      <th>9</th>\n",
       "      <td>3.8</td>\n",
       "      <td>57190.0</td>\n",
       "    </tr>\n",
       "  </tbody>\n",
       "</table>\n",
       "</div>"
      ],
      "text/plain": [
       "   YearsExperience   Salary\n",
       "0              1.2  39344.0\n",
       "1              1.4  46206.0\n",
       "2              1.6  37732.0\n",
       "3              2.1  43526.0\n",
       "4              2.3  39892.0\n",
       "5              3.0  56643.0\n",
       "6              3.1  60151.0\n",
       "7              3.3  54446.0\n",
       "8              3.3  64446.0\n",
       "9              3.8  57190.0"
      ]
     },
     "execution_count": 2,
     "metadata": {},
     "output_type": "execute_result"
    }
   ],
   "source": [
    "df.drop(columns=['Unnamed: 0'],axis=1).head(10)"
   ]
  },
  {
   "cell_type": "code",
   "execution_count": 3,
   "id": "532fcd80",
   "metadata": {
    "execution": {
     "iopub.execute_input": "2024-09-01T09:35:01.104580Z",
     "iopub.status.busy": "2024-09-01T09:35:01.103332Z",
     "iopub.status.idle": "2024-09-01T09:35:01.112943Z",
     "shell.execute_reply": "2024-09-01T09:35:01.111672Z"
    },
    "papermill": {
     "duration": 0.017972,
     "end_time": "2024-09-01T09:35:01.115618",
     "exception": false,
     "start_time": "2024-09-01T09:35:01.097646",
     "status": "completed"
    },
    "tags": []
   },
   "outputs": [],
   "source": [
    "X = df[['YearsExperience']]\n",
    "Y = df[['Salary']]"
   ]
  },
  {
   "cell_type": "code",
   "execution_count": 4,
   "id": "e51f92f1",
   "metadata": {
    "execution": {
     "iopub.execute_input": "2024-09-01T09:35:01.125833Z",
     "iopub.status.busy": "2024-09-01T09:35:01.125382Z",
     "iopub.status.idle": "2024-09-01T09:35:01.421297Z",
     "shell.execute_reply": "2024-09-01T09:35:01.419519Z"
    },
    "papermill": {
     "duration": 0.304579,
     "end_time": "2024-09-01T09:35:01.424407",
     "exception": false,
     "start_time": "2024-09-01T09:35:01.119828",
     "status": "completed"
    },
    "tags": []
   },
   "outputs": [
    {
     "data": {
      "image/png": "[encoded data removed]",
      "text/plain": [
       "<Figure size 640x480 with 1 Axes>"
      ]
     },
     "metadata": {},
     "output_type": "display_data"
    }
   ],
   "source": [
    "import matplotlib.pyplot as plt\n",
    "\n",
    "plt.scatter(X, Y)\n",
    "plt.show()"
   ]
  },
  {
   "cell_type": "code",
   "execution_count": 5,
   "id": "c8950eea",
   "metadata": {
    "execution": {
     "iopub.execute_input": "2024-09-01T09:35:01.436119Z",
     "iopub.status.busy": "2024-09-01T09:35:01.435054Z",
     "iopub.status.idle": "2024-09-01T09:35:02.848384Z",
     "shell.execute_reply": "2024-09-01T09:35:02.847034Z"
    },
    "papermill": {
     "duration": 1.422144,
     "end_time": "2024-09-01T09:35:02.851178",
     "exception": false,
     "start_time": "2024-09-01T09:35:01.429034",
     "status": "completed"
    },
    "tags": []
   },
   "outputs": [],
   "source": [
    "from scipy import stats\n",
    "\n",
    "slope, intercept, r, p, se = stats.linregress(df.YearsExperience, df.Salary)\n",
    "\n",
    "def linear_regression(x):\n",
    "    return slope * x + intercept\n"
   ]
  },
  {
   "cell_type": "code",
   "execution_count": 6,
   "id": "a8bcca73",
   "metadata": {
    "execution": {
     "iopub.execute_input": "2024-09-01T09:35:02.862303Z",
     "iopub.status.busy": "2024-09-01T09:35:02.861676Z",
     "iopub.status.idle": "2024-09-01T09:35:03.126120Z",
     "shell.execute_reply": "2024-09-01T09:35:03.124582Z"
    },
    "papermill": {
     "duration": 0.27336,
     "end_time": "2024-09-01T09:35:03.129058",
     "exception": false,
     "start_time": "2024-09-01T09:35:02.855698",
     "status": "completed"
    },
    "tags": []
   },
   "outputs": [
    {
     "data": {
      "image/png": "[encoded data removed]",
      "text/plain": [
       "<Figure size 640x480 with 1 Axes>"
      ]
     },
     "metadata": {},
     "output_type": "display_data"
    }
   ],
   "source": [
    "mymodel = X.map(linear_regression)\n",
    "\n",
    "plt.scatter(X, Y)\n",
    "plt.plot(X, mymodel)\n",
    "plt.show()"
   ]
  },
  {
   "cell_type": "code",
   "execution_count": 7,
   "id": "b5cdde61",
   "metadata": {
    "execution": {
     "iopub.execute_input": "2024-09-01T09:35:03.141256Z",
     "iopub.status.busy": "2024-09-01T09:35:03.140731Z",
     "iopub.status.idle": "2024-09-01T09:35:03.147781Z",
     "shell.execute_reply": "2024-09-01T09:35:03.146270Z"
    },
    "papermill": {
     "duration": 0.01631,
     "end_time": "2024-09-01T09:35:03.150434",
     "exception": false,
     "start_time": "2024-09-01T09:35:03.134124",
     "status": "completed"
    },
    "tags": []
   },
   "outputs": [
    {
     "name": "stdout",
     "output_type": "stream",
     "text": [
      "0.9782416184887599\n"
     ]
    }
   ],
   "source": [
    "print(r)"
   ]
  }
 ],
 "metadata": {
  "kaggle": {
   "accelerator": "none",
   "dataSources": [
    {
     "datasetId": 2799910,
     "sourceId": 4832081,
     "sourceType": "datasetVersion"
    }
   ],
   "dockerImageVersionId": 30761,
   "isGpuEnabled": false,
   "isInternetEnabled": true,
   "language": "python",
   "sourceType": "notebook"
  },
  "kernelspec": {
   "display_name": "Python 3",
   "language": "python",
   "name": "python3"
  },
  "language_info": {
   "codemirror_mode": {
    "name": "ipython",
    "version": 3
   },
   "file_extension": ".py",
   "mimetype": "text/x-python",
   "name": "python",
   "nbconvert_exporter": "python",
   "pygments_lexer": "ipython3",
   "version": "3.10.14"
  },
  "papermill": {
   "default_parameters": {},
   "duration": 6.397944,
   "end_time": "2024-09-01T09:35:03.778387",
   "environment_variables": {},
   "exception": null,
   "input_path": "__notebook__.ipynb",
   "output_path": "__notebook__.ipynb",
   "parameters": {},
   "start_time": "2024-09-01T09:34:57.380443",
   "version": "2.6.0"
  }
 },
 "nbformat": 4,
 "nbformat_minor": 5
}
